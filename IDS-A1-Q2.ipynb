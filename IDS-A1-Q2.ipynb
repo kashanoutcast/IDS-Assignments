# September 17, 2023
# Assignment1 – Web Scraping Q1
# Ch M Kashan Akram
# FA21-BSE-066
# Birthday

import requests
from bs4 import BeautifulSoup

def getBirthdayMatch():
  
  url = f"https://www.timeanddate.com/on-this-day/september/22"
  response = requests.get(url)
  soup = BeautifulSoup(response.content, "html.parser")

  pBorn = soup.find("div", class_="otd-life__block").text.strip()
  print(pBorn)

  return pBorn

def getEvents():
  url = f"https://www.britannica.com/on-this-day/September-22"
  response = requests.get(url)
  soup = BeautifulSoup(response.content, "html.parser")

  events = []

  eventDivs = soup.findAll("div", class_="card-body")
  eventDate = soup.findAll("div", class_="date-label")

  for i in range(len(eventDivs)):
    event = {
      "date": eventDate[i].text.strip(),
      "text": eventDivs[i].text.strip()
    }
    events.append(event)

  print()
  print("Events that happened on this day: ")
  for event in events:
    print(f"{event['date']}: {event['text']}")

  for event in events:
        file.write(f"{event['date']}: {event['text']}\n\n")

birthday_match = getBirthdayMatch()

with open("birthday_results.txt", "w") as file:
    file.write("Celebrities who share your birthdate:\n")
    file.write(birthday_match)
    file.write("\n")
    file.write("\nEvents that happened on this day:\n")
    getEvents()
print("Results saved to 'birthday_results.txt'.")
