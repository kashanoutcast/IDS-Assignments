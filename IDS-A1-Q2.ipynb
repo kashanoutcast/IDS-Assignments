# September 17, 2023
# Assignment1 – Web Scraping Q1
# Ch M Kashan Akram
# FA21-BSE-066
# Web Scrapper that fetches celbrities name that share my birthdate and also the events that happened on my birthdate.

import requests
from bs4 import BeautifulSoup

def getBirthdayMatch(birthdate):
  
  url = f"https://www.timeanddate.com/on-this-day/{birthdate}"
  response = requests.get(url)
  soup = BeautifulSoup(response.content, "html.parser")
  otd_life_block = soup.find("div", class_="otd-life__block")

  if otd_life_block is None:
    return []

  famous_people = []
  for h3 in otd_life_block.findAll("h3", class_="old-title"):
    famous_person_text = h3.text
    famous_person_name, famous_person_birth_year = famous_person_text.split(" (")
    famous_person_birth_year = famous_person_birth_year.strip(")")
    famous_person = f"{famous_person_name} ({famous_person_birth_year})"

    famous_people.append(famous_person)

  return famous_people

def getEvents(birthdate1):

  url = f"https://www.britannica.com/on-this-day/{birthdate1}"
  response = requests.get(url)
  soup = BeautifulSoup(response.content, "html.parser")

  event_divs = []
  event_date = []

  events = []
  for event_div in events_divs:
    events_divs = soup.find("div", class_="card-body").text.strip()
    event_date = soup.find("div", class_="date-label").text.strip()
    events.append(f"{event_date}: {event_divs}")

  return events

birthdate = "September/22/"
birthdate1="September-22/"

famous_people = getBirthdayMatch(birthdate)
events = getEvents(birthdate1)

print("Famous people who share my birthdate:")
for famous_person in famous_people:
  print(f"- {famous_person}")

print("Important events that happened on my birthdate:")
for event in events:
  print(f"- {event}")
