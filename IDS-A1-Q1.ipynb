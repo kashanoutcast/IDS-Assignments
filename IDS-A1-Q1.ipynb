# September 17, 2023
# Assignment1 – Web Scraping Q1
# Ch M Kashan Akram
# FA21-BSE-066
# Web Scrapper that fetches my favorite movies' Name and Rating and export it to an Excel File

import requests
import time
from bs4 import BeautifulSoup
import pandas as pd

headers = {'User-Agent': 'Mozilla/5.0 (Windows NT 10.0; Win64; x64) AppleWebKit/537.36 (KHTML, like Gecko) Chrome/58.0.3029.110 Safari/537.36'}
response = requests.get('https://www.imdb.com/title/tt4158110/', headers=headers)
movies = [
    "https://www.imdb.com/title/tt4154796/?ref_=nv_sr_srsg_0_tt_8_nm_0_q_endgame",
    "https://www.imdb.com/title/tt1877832/?ref_=nv_sr_srsg_9_tt_7_nm_1_q_xmen",
    "https://www.imdb.com/title/tt3315342/?ref_=nv_sr_srsg_0_tt_3_nm_5_q_logan",
    "https://www.imdb.com/title/tt0166924/?ref_=nv_sr_srsg_0_tt_1_nm_7_q_mullholan",
    "https://www.imdb.com/title/tt0209144/?ref_=nv_sr_srsg_1_tt_7_nm_0_q_memen",
]

movieTitle = []
movieRating = []

for movie in movies:

  response = requests.get(movie)
  soup = BeautifulSoup(response.content)

  movie_title_element = soup.find("h1", class_="sc-afe43def-0 hnYaOZ")
  movie_title_span = movie_title_element.find("span", class_="sc-afe43def-1 fDTGTb")

  if movie_title_span is not None:

    movie_title = movie_title_span.text
    movieTitle.append(movie_title)
    movie_rating_span = soup.find("span", class_="sc-bde20123-1 iZlgcd")

  if movie_rating_span is not None:

    movie_rating = movie_rating_span.text
    movie_rating = float(movie_rating)
    movieRating.append(movie_rating)

  
  time.sleep(1)

df = pd.DataFrame({'Movie Title': movieTitle, 'Movie Rating': movieRating})
df.to_excel('movie_data.xlsx', index=False)
