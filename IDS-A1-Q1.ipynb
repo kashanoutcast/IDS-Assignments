# September 17, 2023
# Assignment1 – Web Scraping Q1
# Ch M Kashan Akram
# FA21-BSE-066
# Web Scrapper that fetches my favorite movies' Name and Rating and export it to an Excel File

import requests
import time
from bs4 import BeautifulSoup
import pandas as pd

headers = {'User-Agent': 'Mozilla/5.0 (Windows NT 10.0; Win64; x64) AppleWebKit/537.36 (KHTML, like Gecko) Chrome/58.0.3029.110 Safari/537.36'}

moviesLinks = [
    "https://www.imdb.com/title/tt4154796/?ref_=nv_sr_srsg_0_tt_8_nm_0_q_endgame",
    "https://www.imdb.com/title/tt1877832/?ref_=nv_sr_srsg_9_tt_7_nm_1_q_xmen",
    "https://www.imdb.com/title/tt3315342/?ref_=nv_sr_srsg_0_tt_3_nm_5_q_logan",
    "https://www.imdb.com/title/tt0166924/?ref_=nv_sr_srsg_0_tt_1_nm_7_q_mullholan",
    "https://www.imdb.com/title/tt0209144/?ref_=nv_sr_srsg_1_tt_7_nm_0_q_memen",
]

movies = []

for movie in moviesLinks:

  response = requests.get(movie, headers=headers)
  soup = BeautifulSoup(response.content)

  title = soup.find("h1").find("span").text
  rating = soup.find("span", class_="sc-bde20123-1 iZlgcd").text

  movies.append([title, rating])

  time.sleep(1)

print(movies)

df = pd.DataFrame(movies)
df.to_excel('movie_data.xlsx', index=False)
